{
 "cells": [
  {
   "cell_type": "code",
   "execution_count": null,
   "id": "ec76658a",
   "metadata": {},
   "outputs": [],
   "source": [
    "#Write a Python class named Point3D defined by x, y, and z. Define a method that returns (x, y ,z). \n",
    "#This tells Python to represent this object in the following format: (x, y, z). \n",
    "#Then create a variable named my_point containing a new instance of Point3D with x=1, y=2, and z=3 and print it.\n",
    "\n",
    "#Write a Python class named Rectangle constructed by a length and width. Define two methods, area and perimeter, \n",
    "#which will compute the area and the perimeter of the rectangle. Then create a variable named my_rectangle \n",
    "#containing a new instance of Rectangle with width=3 and length = 4 and compute both area and perimeter \n",
    "#( the area is expected to be 3*4=12 and perimeter 2*(3+4)=14).\n",
    "\n",
    "#Write a Python  class named Circle constructed by its center O and radius r. Define two methods, area and perimeter, \n",
    "#which will compute the area and the perimeter of the circle, and is Inside() method which allows you to test \n",
    "#whether a point A(x, y) belongs to the circle C(O, r) or not.\n",
    "\n",
    "#Suppose we want to model a bank account with support for deposit and withdraw operations. \n",
    "#Let’s create a Python class named Bank defined by its balance. Define two methods, deposit and withdraw, \n",
    "#to compute the new amount of each operation."
   ]
  },
  {
   "cell_type": "code",
   "execution_count": 16,
   "id": "6919277d",
   "metadata": {},
   "outputs": [],
   "source": [
    "import math"
   ]
  },
  {
   "cell_type": "code",
   "execution_count": 5,
   "id": "9141121d",
   "metadata": {},
   "outputs": [
    {
     "name": "stdout",
     "output_type": "stream",
     "text": [
      "(1,2,3)\n"
     ]
    }
   ],
   "source": [
    "class Point3D:\n",
    "    \n",
    "    def __init__(self,x,y,z):\n",
    "        self.x = x\n",
    "        self.y = y\n",
    "        self.z = z\n",
    "\n",
    "    def __repr__(self):\n",
    "        return f\"({self.x},{self.y},{self.z})\"\n",
    "\n",
    "my_point = Point3D(1,2,3)\n",
    "print(my_point)\n"
   ]
  },
  {
   "cell_type": "code",
   "execution_count": 12,
   "id": "05fd024d",
   "metadata": {},
   "outputs": [
    {
     "name": "stdout",
     "output_type": "stream",
     "text": [
      "12\n",
      "14\n"
     ]
    }
   ],
   "source": [
    "class Rectangle:\n",
    "    \n",
    "    def __init__(self,length,width):\n",
    "        self.length = int(length)\n",
    "        self.width = int(width)\n",
    "        \n",
    "    def area(self):\n",
    "        return self.length * self.width\n",
    "    \n",
    "    def perimeter(self):\n",
    "        return (self.length + self.width) * 2\n",
    "\n",
    "my_rectangle = Rectangle(3,4)\n",
    "print(my_rectangle.area())\n",
    "print(my_rectangle.perimeter())"
   ]
  },
  {
   "cell_type": "code",
   "execution_count": 28,
   "id": "1e7d200f",
   "metadata": {},
   "outputs": [
    {
     "name": "stdout",
     "output_type": "stream",
     "text": [
      "78.54\n",
      "31.42\n",
      "False\n"
     ]
    }
   ],
   "source": [
    "class Circle:\n",
    "    \n",
    "    def __init__(self, O, r):\n",
    "        self.center = O\n",
    "        self.radius = r\n",
    "        \n",
    "    def area(self):\n",
    "        return math.pi * self.radius**2\n",
    "    \n",
    "    def perimeter(self):\n",
    "        return math.pi * self.radius * 2\n",
    "    \n",
    "    def isInside(self, A):\n",
    "        x, y = A\n",
    "        ox, oy = self.center\n",
    "        distance = math.sqrt((x-ox)**2 + (y-oy)**2)\n",
    "        return distance <= self.radius\n",
    "\n",
    "my_circle = Circle((0,0),5)\n",
    "print(round(my_circle.area(),2))\n",
    "print(round(my_circle.perimeter(),2))\n",
    "print(my_circle.isInside((6,6)))"
   ]
  }
 ],
 "metadata": {
  "kernelspec": {
   "display_name": "Python 3 (ipykernel)",
   "language": "python",
   "name": "python3"
  },
  "language_info": {
   "codemirror_mode": {
    "name": "ipython",
    "version": 3
   },
   "file_extension": ".py",
   "mimetype": "text/x-python",
   "name": "python",
   "nbconvert_exporter": "python",
   "pygments_lexer": "ipython3",
   "version": "3.9.13"
  }
 },
 "nbformat": 4,
 "nbformat_minor": 5
}
