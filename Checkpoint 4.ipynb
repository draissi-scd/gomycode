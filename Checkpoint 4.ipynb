{
 "cells": [
  {
   "cell_type": "code",
   "execution_count": 16,
   "id": "11c36123",
   "metadata": {},
   "outputs": [
    {
     "name": "stdout",
     "output_type": "stream",
     "text": [
      "Enter the operator (+,-,*,/):f\n",
      "Error : Invalid operator\n"
     ]
    }
   ],
   "source": [
    "def calculator(first,second):\n",
    "    first = int(first)\n",
    "    second = int(second)\n",
    "    operator = input('Enter the operator (+,-,*,/):')\n",
    "    if operator == \"+\":\n",
    "        print(first + second)\n",
    "    elif operator == \"-\":\n",
    "        print(first - second)\n",
    "    elif operator == \"/\":\n",
    "        if(second == 0):\n",
    "            print('Error : Division by zero')\n",
    "        else:\n",
    "            print(first / second)\n",
    "    elif operator == \"*\":\n",
    "        print(first * second)\n",
    "    else:\n",
    "        print('Error : Invalid operator')\n",
    "\n",
    "calculator(5,0)"
   ]
  }
 ],
 "metadata": {
  "kernelspec": {
   "display_name": "Python 3 (ipykernel)",
   "language": "python",
   "name": "python3"
  },
  "language_info": {
   "codemirror_mode": {
    "name": "ipython",
    "version": 3
   },
   "file_extension": ".py",
   "mimetype": "text/x-python",
   "name": "python",
   "nbconvert_exporter": "python",
   "pygments_lexer": "ipython3",
   "version": "3.9.13"
  }
 },
 "nbformat": 4,
 "nbformat_minor": 5
}
